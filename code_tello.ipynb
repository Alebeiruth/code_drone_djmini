{
  "cells": [
    {
      "cell_type": "markdown",
      "metadata": {
        "id": "R2JXyjVQP8K8"
      },
      "source": [
        "# CODIGO PARA MOVIMENTAÇÃO DO DRONE DJITello"
      ]
    },
    {
      "cell_type": "code",
      "execution_count": 1,
      "metadata": {
        "id": "Kd7ujc4DP8LD"
      },
      "outputs": [],
      "source": [
        "from djitellopy import Tello\n",
        "import time"
      ]
    },
    {
      "cell_type": "code",
      "execution_count": 9,
      "metadata": {
        "id": "uaWh93OQP8LF",
        "outputId": "4605eb44-22b4-4c3b-ea7a-5310a990747b"
      },
      "outputs": [
        {
          "name": "stderr",
          "output_type": "stream",
          "text": [
            "[INFO] tello.py - 129 - Tello instance was initialized. Host: '192.168.10.1'. Port: '8889'.\n",
            "[INFO] tello.py - 438 - Send command: 'command'\n",
            "[ERROR] tello.py - 458 - 'utf-8' codec can't decode byte 0xcc in position 0: invalid continuation byte\n",
            "[INFO] tello.py - 438 - Send command: 'command'\n",
            "[INFO] tello.py - 462 - Response command: 'ok'\n"
          ]
        },
        {
          "name": "stdout",
          "output_type": "stream",
          "text": [
            "Battery level: 77%\n"
          ]
        }
      ],
      "source": [
        "# Ver o nivel da bateria\n",
        "\n",
        "tello = Tello()\n",
        "tello.connect()\n",
        "\n",
        "print(f\"Battery level: {tello.get_battery()}%\")"
      ]
    },
    {
      "cell_type": "code",
      "execution_count": 12,
      "metadata": {
        "id": "91nbmKXlP8LH",
        "outputId": "54e5b0ee-a11f-4ff1-af0c-27e3475cba7e"
      },
      "outputs": [
        {
          "name": "stderr",
          "output_type": "stream",
          "text": [
            "[INFO] tello.py - 438 - Send command: 'takeoff'\n",
            "[INFO] tello.py - 462 - Response takeoff: 'ok'\n"
          ]
        }
      ],
      "source": [
        "# Faz o drone decolar automaticamente\n",
        "tello.takeoff()"
      ]
    },
    {
      "cell_type": "markdown",
      "metadata": {
        "id": "WNyR_1A2QAdF"
      },
      "source": [
        "# Faz um Quadrado"
      ]
    },
    {
      "cell_type": "code",
      "execution_count": 5,
      "metadata": {
        "id": "9AE_tkANP8LI",
        "outputId": "cfd1ed00-ec3c-487f-a17a-4c394d4602c5"
      },
      "outputs": [
        {
          "name": "stderr",
          "output_type": "stream",
          "text": [
            "[INFO] tello.py - 438 - Send command: 'forward 40'\n",
            "[INFO] tello.py - 462 - Response forward 40: 'ok'\n",
            "[INFO] tello.py - 438 - Send command: 'cw 90'\n",
            "[INFO] tello.py - 462 - Response cw 90: 'ok'\n",
            "[INFO] tello.py - 438 - Send command: 'forward 40'\n",
            "[INFO] tello.py - 462 - Response forward 40: 'ok'\n",
            "[INFO] tello.py - 438 - Send command: 'cw 90'\n",
            "[INFO] tello.py - 462 - Response cw 90: 'ok'\n",
            "[INFO] tello.py - 438 - Send command: 'forward 40'\n",
            "[INFO] tello.py - 462 - Response forward 40: 'ok'\n",
            "[INFO] tello.py - 438 - Send command: 'cw 90'\n",
            "[INFO] tello.py - 462 - Response cw 90: 'ok'\n",
            "[INFO] tello.py - 438 - Send command: 'forward 40'\n",
            "[INFO] tello.py - 462 - Response forward 40: 'ok'\n",
            "[INFO] tello.py - 438 - Send command: 'cw 90'\n",
            "[INFO] tello.py - 462 - Response cw 90: 'ok'\n",
            "[INFO] tello.py - 438 - Send command: 'land'\n",
            "[INFO] tello.py - 462 - Response land: 'ok'\n"
          ]
        }
      ],
      "source": [
        "for _ in range(4):\n",
        "    tello.move_forward(40) # inicio para frente 20cm é o minimo por tanto é bem mais recomendavel ser maior\n",
        "    time.sleep(5)\n",
        "    tello.rotate_clockwise(90) # gira para direita\n",
        "    time.sleep(5)\n",
        "\n",
        "tello.land() #pousa automaticamente"
      ]
    },
    {
      "cell_type": "markdown",
      "metadata": {
        "id": "eSYW8PLKP8LK"
      },
      "source": [
        "# TESTAR SE FUNCIONA"
      ]
    },
    {
      "cell_type": "code",
      "execution_count": null,
      "metadata": {
        "id": "iZEHzFD7P8LL",
        "outputId": "649db971-2e4f-47b1-faea-51e8e2f48300"
      },
      "outputs": [
        {
          "name": "stderr",
          "output_type": "stream",
          "text": [
            "[INFO] tello.py - 438 - Send command: 'takeoff'\n",
            "[INFO] tello.py - 462 - Response takeoff: 'ok'\n",
            "[INFO] tello.py - 438 - Send command: 'land'\n",
            "[INFO] tello.py - 462 - Response land: 'ok'\n"
          ]
        }
      ],
      "source": [
        "# # Faz o drone decolar automaticamente\n",
        "# tello.takeoff()\n",
        "\n",
        "# # Aguarda 15 segundos e faz o drone pousar\n",
        "# import time\n",
        "# time.sleep(15)\n",
        "# tello.land() #pousa automaticamente"
      ]
    },
    {
      "cell_type": "markdown",
      "metadata": {
        "id": "O9yT2RIrP8LL"
      },
      "source": [
        "# FAZ UM CIRCULO"
      ]
    },
    {
      "cell_type": "code",
      "execution_count": 11,
      "metadata": {},
      "outputs": [
        {
          "name": "stderr",
          "output_type": "stream",
          "text": [
            "[INFO] tello.py - 471 - Send command (no response expected): 'rc -60 0 0 60'\n",
            "[INFO] tello.py - 438 - Send command: 'land'\n",
            "[INFO] tello.py - 462 - Response land: 'ok'\n"
          ]
        }
      ],
      "source": [
        "#  send_rc_control(left_right_velocity, forward_backward_velocity, up_down_velocity, yaw_velocity) \n",
        "\n",
        "tello.takeoff() # Decola\n",
        "tello.send_rc_control(-60, 0, 0, 60)  #mudança de cada angulo entre as 8 classes (com sentido para a esquerda)\n",
        "time.sleep(5)\n",
        "tello.send_rc_control(-60, 0, 0, 60)\n",
        "time.sleep(5)\n",
        "tello.land()"
      ]
    }
  ],
  "metadata": {
    "colab": {
      "provenance": []
    },
    "kernelspec": {
      "display_name": "ale_ambiente_virtual",
      "language": "python",
      "name": "python3"
    },
    "language_info": {
      "codemirror_mode": {
        "name": "ipython",
        "version": 3
      },
      "file_extension": ".py",
      "mimetype": "text/x-python",
      "name": "python",
      "nbconvert_exporter": "python",
      "pygments_lexer": "ipython3",
      "version": "3.12.3"
    }
  },
  "nbformat": 4,
  "nbformat_minor": 0
}
