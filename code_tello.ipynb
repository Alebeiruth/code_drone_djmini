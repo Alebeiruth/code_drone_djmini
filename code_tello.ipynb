{
  "cells": [
    {
      "cell_type": "markdown",
      "metadata": {
        "id": "R2JXyjVQP8K8"
      },
      "source": [
        "# CODIGO PARA MOVIMENTAÇÃO DO DRONE DJITello"
      ]
    },
    {
      "cell_type": "code",
      "execution_count": null,
      "metadata": {
        "id": "Kd7ujc4DP8LD"
      },
      "outputs": [],
      "source": [
        "from djitellopy import Tello\n",
        "import time"
      ]
    },
    {
      "cell_type": "code",
      "execution_count": null,
      "metadata": {
        "id": "uaWh93OQP8LF",
        "outputId": "4605eb44-22b4-4c3b-ea7a-5310a990747b"
      },
      "outputs": [
        {
          "name": "stderr",
          "output_type": "stream",
          "text": [
            "[INFO] tello.py - 129 - Tello instance was initialized. Host: '192.168.10.1'. Port: '8889'.\n",
            "[INFO] tello.py - 438 - Send command: 'command'\n",
            "[INFO] tello.py - 462 - Response command: 'ok'\n"
          ]
        },
        {
          "name": "stdout",
          "output_type": "stream",
          "text": [
            "Battery level: 66%\n"
          ]
        }
      ],
      "source": [
        "# Ver o nivel da bateria\n",
        "\n",
        "tello = Tello()\n",
        "tello.connect()\n",
        "\n",
        "print(f\"Battery level: {tello.get_battery()}%\")"
      ]
    },
    {
      "cell_type": "code",
      "execution_count": null,
      "metadata": {
        "id": "91nbmKXlP8LH",
        "outputId": "54e5b0ee-a11f-4ff1-af0c-27e3475cba7e"
      },
      "outputs": [
        {
          "name": "stderr",
          "output_type": "stream",
          "text": [
            "[INFO] tello.py - 438 - Send command: 'takeoff'\n",
            "[INFO] tello.py - 462 - Response takeoff: 'ok'\n"
          ]
        }
      ],
      "source": [
        "# Faz o drone decolar automaticamente\n",
        "tello.takeoff()"
      ]
    },
    {
      "cell_type": "markdown",
      "source": [
        "# Faz um Quadrado"
      ],
      "metadata": {
        "id": "WNyR_1A2QAdF"
      }
    },
    {
      "cell_type": "code",
      "execution_count": null,
      "metadata": {
        "id": "9AE_tkANP8LI",
        "outputId": "cfd1ed00-ec3c-487f-a17a-4c394d4602c5"
      },
      "outputs": [
        {
          "name": "stderr",
          "output_type": "stream",
          "text": [
            "[INFO] tello.py - 438 - Send command: 'forward 20'\n"
          ]
        },
        {
          "name": "stderr",
          "output_type": "stream",
          "text": [
            "[INFO] tello.py - 462 - Response forward 20: 'ok'\n",
            "[INFO] tello.py - 438 - Send command: 'cw 90'\n",
            "[INFO] tello.py - 462 - Response cw 90: 'ok'\n",
            "[INFO] tello.py - 438 - Send command: 'forward 20'\n",
            "[INFO] tello.py - 462 - Response forward 20: 'ok'\n",
            "[INFO] tello.py - 438 - Send command: 'cw 90'\n",
            "[INFO] tello.py - 462 - Response cw 90: 'ok'\n",
            "[INFO] tello.py - 438 - Send command: 'forward 20'\n",
            "[INFO] tello.py - 462 - Response forward 20: 'ok'\n",
            "[INFO] tello.py - 438 - Send command: 'cw 90'\n",
            "[INFO] tello.py - 462 - Response cw 90: 'ok'\n",
            "[INFO] tello.py - 438 - Send command: 'forward 20'\n",
            "[INFO] tello.py - 462 - Response forward 20: 'ok'\n",
            "[INFO] tello.py - 438 - Send command: 'cw 90'\n",
            "[INFO] tello.py - 462 - Response cw 90: 'ok'\n",
            "[INFO] tello.py - 438 - Send command: 'land'\n",
            "[INFO] tello.py - 462 - Response land: 'ok'\n"
          ]
        }
      ],
      "source": [
        "for _ in range(4):\n",
        "    tello.move_forward(40) # inicio para frente 20cm é o minimo por tanto é bem mais recomendavel ser mair\n",
        "    time.sleep(5)\n",
        "    tello.rotate_clockwise(90) # gira para direita\n",
        "    time.sleep(5)\n",
        "\n",
        "tello.land() #pousa automaticamente"
      ]
    },
    {
      "cell_type": "markdown",
      "metadata": {
        "id": "eSYW8PLKP8LK"
      },
      "source": [
        "# TESTAR SE FUNCIONA"
      ]
    },
    {
      "cell_type": "code",
      "execution_count": null,
      "metadata": {
        "id": "iZEHzFD7P8LL",
        "outputId": "649db971-2e4f-47b1-faea-51e8e2f48300"
      },
      "outputs": [
        {
          "name": "stderr",
          "output_type": "stream",
          "text": [
            "[INFO] tello.py - 438 - Send command: 'takeoff'\n",
            "[INFO] tello.py - 462 - Response takeoff: 'ok'\n",
            "[INFO] tello.py - 438 - Send command: 'land'\n",
            "[INFO] tello.py - 462 - Response land: 'ok'\n"
          ]
        }
      ],
      "source": [
        "# # Faz o drone decolar automaticamente\n",
        "# tello.takeoff()\n",
        "\n",
        "# # Aguarda 15 segundos e faz o drone pousar\n",
        "# import time\n",
        "# time.sleep(15)\n",
        "# tello.land() #pousa automaticamente"
      ]
    },
    {
      "cell_type": "markdown",
      "metadata": {
        "id": "O9yT2RIrP8LL"
      },
      "source": [
        "# FAZ UM CIRCULO"
      ]
    },
    {
      "cell_type": "code",
      "execution_count": null,
      "metadata": {
        "id": "Py-zBP5LP8LM",
        "outputId": "8d4c164d-3268-4975-f8c1-88e19d98da78"
      },
      "outputs": [
        {
          "name": "stderr",
          "output_type": "stream",
          "text": [
            "[INFO] tello.py - 129 - Tello instance was initialized. Host: '192.168.10.1'. Port: '8889'.\n",
            "[INFO] tello.py - 438 - Send command: 'command'\n"
          ]
        },
        {
          "ename": "KeyboardInterrupt",
          "evalue": "",
          "output_type": "error",
          "traceback": [
            "\u001b[0;31m---------------------------------------------------------------------------\u001b[0m",
            "\u001b[0;31mKeyboardInterrupt\u001b[0m                         Traceback (most recent call last)",
            "Cell \u001b[0;32mIn[1], line 6\u001b[0m\n\u001b[1;32m      4\u001b[0m \u001b[38;5;66;03m# Inicializa o drone\u001b[39;00m\n\u001b[1;32m      5\u001b[0m tello \u001b[38;5;241m=\u001b[39m Tello()\n\u001b[0;32m----> 6\u001b[0m \u001b[43mtello\u001b[49m\u001b[38;5;241;43m.\u001b[39;49m\u001b[43mconnect\u001b[49m\u001b[43m(\u001b[49m\u001b[43m)\u001b[49m\n\u001b[1;32m      8\u001b[0m \u001b[38;5;66;03m# Decola\u001b[39;00m\n\u001b[1;32m      9\u001b[0m tello\u001b[38;5;241m.\u001b[39mtakeoff()\n",
            "File \u001b[0;32m~/ale_ambiente_virtual/lib/python3.12/site-packages/djitellopy/enforce_types.py:54\u001b[0m, in \u001b[0;36menforce_types.<locals>.decorate.<locals>.wrapper\u001b[0;34m(*args, **kwargs)\u001b[0m\n\u001b[1;32m     51\u001b[0m \u001b[38;5;129m@wraps\u001b[39m(func)\n\u001b[1;32m     52\u001b[0m \u001b[38;5;28;01mdef\u001b[39;00m \u001b[38;5;21mwrapper\u001b[39m(\u001b[38;5;241m*\u001b[39margs, \u001b[38;5;241m*\u001b[39m\u001b[38;5;241m*\u001b[39mkwargs):\n\u001b[1;32m     53\u001b[0m     check_types(spec, \u001b[38;5;241m*\u001b[39margs, \u001b[38;5;241m*\u001b[39m\u001b[38;5;241m*\u001b[39mkwargs)\n\u001b[0;32m---> 54\u001b[0m     \u001b[38;5;28;01mreturn\u001b[39;00m \u001b[43mfunc\u001b[49m\u001b[43m(\u001b[49m\u001b[38;5;241;43m*\u001b[39;49m\u001b[43margs\u001b[49m\u001b[43m,\u001b[49m\u001b[43m \u001b[49m\u001b[38;5;241;43m*\u001b[39;49m\u001b[38;5;241;43m*\u001b[39;49m\u001b[43mkwargs\u001b[49m\u001b[43m)\u001b[49m\n",
            "File \u001b[0;32m~/ale_ambiente_virtual/lib/python3.12/site-packages/djitellopy/tello.py:535\u001b[0m, in \u001b[0;36mTello.connect\u001b[0;34m(self, wait_for_state)\u001b[0m\n\u001b[1;32m    532\u001b[0m \u001b[38;5;28;01mdef\u001b[39;00m \u001b[38;5;21mconnect\u001b[39m(\u001b[38;5;28mself\u001b[39m, wait_for_state\u001b[38;5;241m=\u001b[39m\u001b[38;5;28;01mTrue\u001b[39;00m):\n\u001b[1;32m    533\u001b[0m \u001b[38;5;250m    \u001b[39m\u001b[38;5;124;03m\"\"\"Enter SDK mode. Call this before any of the control functions.\u001b[39;00m\n\u001b[1;32m    534\u001b[0m \u001b[38;5;124;03m    \"\"\"\u001b[39;00m\n\u001b[0;32m--> 535\u001b[0m     \u001b[38;5;28;43mself\u001b[39;49m\u001b[38;5;241;43m.\u001b[39;49m\u001b[43msend_control_command\u001b[49m\u001b[43m(\u001b[49m\u001b[38;5;124;43m\"\u001b[39;49m\u001b[38;5;124;43mcommand\u001b[39;49m\u001b[38;5;124;43m\"\u001b[39;49m\u001b[43m)\u001b[49m\n\u001b[1;32m    537\u001b[0m     \u001b[38;5;28;01mif\u001b[39;00m wait_for_state:\n\u001b[1;32m    538\u001b[0m         REPS \u001b[38;5;241m=\u001b[39m \u001b[38;5;241m20\u001b[39m\n",
            "File \u001b[0;32m~/ale_ambiente_virtual/lib/python3.12/site-packages/djitellopy/enforce_types.py:54\u001b[0m, in \u001b[0;36menforce_types.<locals>.decorate.<locals>.wrapper\u001b[0;34m(*args, **kwargs)\u001b[0m\n\u001b[1;32m     51\u001b[0m \u001b[38;5;129m@wraps\u001b[39m(func)\n\u001b[1;32m     52\u001b[0m \u001b[38;5;28;01mdef\u001b[39;00m \u001b[38;5;21mwrapper\u001b[39m(\u001b[38;5;241m*\u001b[39margs, \u001b[38;5;241m*\u001b[39m\u001b[38;5;241m*\u001b[39mkwargs):\n\u001b[1;32m     53\u001b[0m     check_types(spec, \u001b[38;5;241m*\u001b[39margs, \u001b[38;5;241m*\u001b[39m\u001b[38;5;241m*\u001b[39mkwargs)\n\u001b[0;32m---> 54\u001b[0m     \u001b[38;5;28;01mreturn\u001b[39;00m \u001b[43mfunc\u001b[49m\u001b[43m(\u001b[49m\u001b[38;5;241;43m*\u001b[39;49m\u001b[43margs\u001b[49m\u001b[43m,\u001b[49m\u001b[43m \u001b[49m\u001b[38;5;241;43m*\u001b[39;49m\u001b[38;5;241;43m*\u001b[39;49m\u001b[43mkwargs\u001b[49m\u001b[43m)\u001b[49m\n",
            "File \u001b[0;32m~/ale_ambiente_virtual/lib/python3.12/site-packages/djitellopy/tello.py:480\u001b[0m, in \u001b[0;36mTello.send_control_command\u001b[0;34m(self, command, timeout)\u001b[0m\n\u001b[1;32m    478\u001b[0m response \u001b[38;5;241m=\u001b[39m \u001b[38;5;124m\"\u001b[39m\u001b[38;5;124mmax retries exceeded\u001b[39m\u001b[38;5;124m\"\u001b[39m\n\u001b[1;32m    479\u001b[0m \u001b[38;5;28;01mfor\u001b[39;00m i \u001b[38;5;129;01min\u001b[39;00m \u001b[38;5;28mrange\u001b[39m(\u001b[38;5;241m0\u001b[39m, \u001b[38;5;28mself\u001b[39m\u001b[38;5;241m.\u001b[39mretry_count):\n\u001b[0;32m--> 480\u001b[0m     response \u001b[38;5;241m=\u001b[39m \u001b[38;5;28;43mself\u001b[39;49m\u001b[38;5;241;43m.\u001b[39;49m\u001b[43msend_command_with_return\u001b[49m\u001b[43m(\u001b[49m\u001b[43mcommand\u001b[49m\u001b[43m,\u001b[49m\u001b[43m \u001b[49m\u001b[43mtimeout\u001b[49m\u001b[38;5;241;43m=\u001b[39;49m\u001b[43mtimeout\u001b[49m\u001b[43m)\u001b[49m\n\u001b[1;32m    482\u001b[0m     \u001b[38;5;28;01mif\u001b[39;00m \u001b[38;5;124m'\u001b[39m\u001b[38;5;124mok\u001b[39m\u001b[38;5;124m'\u001b[39m \u001b[38;5;129;01min\u001b[39;00m response\u001b[38;5;241m.\u001b[39mlower():\n\u001b[1;32m    483\u001b[0m         \u001b[38;5;28;01mreturn\u001b[39;00m \u001b[38;5;28;01mTrue\u001b[39;00m\n",
            "File \u001b[0;32m~/ale_ambiente_virtual/lib/python3.12/site-packages/djitellopy/enforce_types.py:54\u001b[0m, in \u001b[0;36menforce_types.<locals>.decorate.<locals>.wrapper\u001b[0;34m(*args, **kwargs)\u001b[0m\n\u001b[1;32m     51\u001b[0m \u001b[38;5;129m@wraps\u001b[39m(func)\n\u001b[1;32m     52\u001b[0m \u001b[38;5;28;01mdef\u001b[39;00m \u001b[38;5;21mwrapper\u001b[39m(\u001b[38;5;241m*\u001b[39margs, \u001b[38;5;241m*\u001b[39m\u001b[38;5;241m*\u001b[39mkwargs):\n\u001b[1;32m     53\u001b[0m     check_types(spec, \u001b[38;5;241m*\u001b[39margs, \u001b[38;5;241m*\u001b[39m\u001b[38;5;241m*\u001b[39mkwargs)\n\u001b[0;32m---> 54\u001b[0m     \u001b[38;5;28;01mreturn\u001b[39;00m \u001b[43mfunc\u001b[49m\u001b[43m(\u001b[49m\u001b[38;5;241;43m*\u001b[39;49m\u001b[43margs\u001b[49m\u001b[43m,\u001b[49m\u001b[43m \u001b[49m\u001b[38;5;241;43m*\u001b[39;49m\u001b[38;5;241;43m*\u001b[39;49m\u001b[43mkwargs\u001b[49m\u001b[43m)\u001b[49m\n",
            "File \u001b[0;32m~/ale_ambiente_virtual/lib/python3.12/site-packages/djitellopy/tello.py:450\u001b[0m, in \u001b[0;36mTello.send_command_with_return\u001b[0;34m(self, command, timeout)\u001b[0m\n\u001b[1;32m    448\u001b[0m         \u001b[38;5;28mself\u001b[39m\u001b[38;5;241m.\u001b[39mLOGGER\u001b[38;5;241m.\u001b[39mwarning(message)\n\u001b[1;32m    449\u001b[0m         \u001b[38;5;28;01mreturn\u001b[39;00m message\n\u001b[0;32m--> 450\u001b[0m     \u001b[43mtime\u001b[49m\u001b[38;5;241;43m.\u001b[39;49m\u001b[43msleep\u001b[49m\u001b[43m(\u001b[49m\u001b[38;5;241;43m0.1\u001b[39;49m\u001b[43m)\u001b[49m  \u001b[38;5;66;03m# Sleep during send command\u001b[39;00m\n\u001b[1;32m    452\u001b[0m \u001b[38;5;28mself\u001b[39m\u001b[38;5;241m.\u001b[39mlast_received_command_timestamp \u001b[38;5;241m=\u001b[39m time\u001b[38;5;241m.\u001b[39mtime()\n\u001b[1;32m    454\u001b[0m first_response \u001b[38;5;241m=\u001b[39m responses\u001b[38;5;241m.\u001b[39mpop(\u001b[38;5;241m0\u001b[39m)  \u001b[38;5;66;03m# first datum from socket\u001b[39;00m\n",
            "\u001b[0;31mKeyboardInterrupt\u001b[0m: "
          ]
        }
      ],
      "source": [
        "from djitellopy import Tello\n",
        "import time\n",
        "\n",
        "# Inicializa o drone\n",
        "tello = Tello()\n",
        "tello.connect()\n",
        "\n",
        "# Decola\n",
        "tello.takeoff()\n",
        "\n",
        "# Parâmetros do círculo\n",
        "radius = 50  # Definindo o \"raio\" (tamanho aproximado do círculo em cm)\n",
        "steps = 36   # Número de passos (quanto maior, mais suave o círculo)\n",
        "angle = 360 / steps  # Ângulo de rotação por passo (em graus)\n",
        "\n",
        "# Faz o círculo\n",
        "for _ in range(steps):\n",
        "    tello.move_forward(radius // steps)  # Movimenta para frente uma fração do raio\n",
        "    tello.rotate_clockwise(int(angle))  # Rotaciona uma fração do círculo\n",
        "    time.sleep(0.5)  # Pausa breve entre os movimentos\n",
        "\n",
        "# Pousa\n",
        "tello.land()\n"
      ]
    },
    {
      "cell_type": "code",
      "execution_count": null,
      "metadata": {
        "id": "nMW70iP7P8LO"
      },
      "outputs": [],
      "source": []
    }
  ],
  "metadata": {
    "kernelspec": {
      "display_name": "ale_ambiente_virtual",
      "language": "python",
      "name": "python3"
    },
    "language_info": {
      "codemirror_mode": {
        "name": "ipython",
        "version": 3
      },
      "file_extension": ".py",
      "mimetype": "text/x-python",
      "name": "python",
      "nbconvert_exporter": "python",
      "pygments_lexer": "ipython3",
      "version": "3.12.3"
    },
    "colab": {
      "provenance": []
    }
  },
  "nbformat": 4,
  "nbformat_minor": 0
}